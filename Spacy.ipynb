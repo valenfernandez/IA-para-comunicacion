{
  "nbformat": 4,
  "nbformat_minor": 0,
  "metadata": {
    "colab": {
      "provenance": [],
      "collapsed_sections": [
        "k6glsm4k_6yw",
        "Gx5Uoa9wycXa",
        "ZqR5JmenAGLb",
        "ohqRb1vbzFce"
      ]
    },
    "kernelspec": {
      "name": "python3",
      "display_name": "Python 3"
    },
    "language_info": {
      "name": "python"
    }
  },
  "cells": [
    {
      "cell_type": "markdown",
      "source": [
        "## Spacy"
      ],
      "metadata": {
        "id": "-d-GkFGZw5ir"
      }
    },
    {
      "cell_type": "markdown",
      "source": [
        "SpaCy es una libreria de procesamiento de lenguaje natural de Python gratuita y open source. Fue diseñada específicamente para la producción de algoritmos que puedan procesar grandes volúmenes de texto.\n",
        "\n",
        "SpaCy ofrece modelos pre entrenados en varios idiomas, que se pueden instalar como modelos de python (ademas de la posibilidad de entrenar modelos propios).\n",
        "\n",
        "La librería usa redes neuronales convolucionales para realizar part-of-speech tagging, dependency parsing, categorización de texto y reconocimiento de entidades(NER).\n",
        "\n",
        "La gran ventaja de esta libreria es el buen soporte que tiene para idiomas diferentes al ingles. Existen diferentes modelos de diversos tamaños para que se ajusten mejor a la necesidad particular de cada caso."
      ],
      "metadata": {
        "id": "sTk5bPeFw3_o"
      }
    },
    {
      "cell_type": "markdown",
      "source": [
        "### Glosario:\n",
        "\n",
        "**Open Source:** El código fuente es accesible para cualquier persona que desee utilizarlo, modificarlo o contribuir a su desarrollo.\n",
        "\n",
        "**Part-of-Speech Tagging** (Etiquetado de Partes del Discurso): Asigna a cada palabra en un texto una etiqueta que indica su función gramatical, como sustantivo, verbo, adjetivo, etc.\n",
        "\n",
        "**Dependency Parsing** (Análisis de Dependencias): Determina las relaciones sintácticas entre las palabras en una oración.\n",
        "\n",
        "**Categorización de Texto**: Clasificar fragmentos de texto en categorías específicas, como temas o sentimientos.\n",
        "\n",
        "**Reconocimiento de Entidades** (NER): Identificación y clasificación de entidades nombradas en un texto, como nombres de personas, organizaciones, lugares, fechas, etc.\n",
        "\n",
        "**Stop words**: Son palabras comunes, como pronombres, preposiciones y conjunciones, que se filtran o eliminan por su falta de significado informativo en el análisis de texto.\n"
      ],
      "metadata": {
        "id": "3mROIT8yiEIO"
      }
    },
    {
      "cell_type": "markdown",
      "source": [
        "###instalacion\n"
      ],
      "metadata": {
        "id": "w4lN-yaNw9cA"
      }
    },
    {
      "cell_type": "code",
      "execution_count": null,
      "metadata": {
        "id": "ZKmFdy36lpe4"
      },
      "outputs": [],
      "source": [
        "!pip install spacy\n",
        "!python -m spacy download es_core_news_sm\n",
        "!python -m spacy download es_core_news_md"
      ]
    },
    {
      "cell_type": "code",
      "source": [
        "!pip install pandas"
      ],
      "metadata": {
        "id": "EyvZG1mBAVpb"
      },
      "execution_count": null,
      "outputs": []
    },
    {
      "cell_type": "markdown",
      "source": [
        "### Primeros pasos"
      ],
      "metadata": {
        "id": "b46eMpb_9WrX"
      }
    },
    {
      "cell_type": "code",
      "source": [
        "import spacy\n",
        "from spacy import displacy\n",
        "\n",
        "\n",
        "nlp = spacy.load(\"es_core_news_md\") #cargamos el modelo"
      ],
      "metadata": {
        "id": "MXVkY34WxGAi"
      },
      "execution_count": 3,
      "outputs": []
    },
    {
      "cell_type": "code",
      "source": [
        "import pandas as pd\n",
        "\n",
        "# Procesar el texto de entrada utilizando SpaCy y almacenar el resultado en la variable 'doc'\n",
        "doc = nlp(\"Ada Lovelace creó el primer algoritmo informático\")\n",
        "\n",
        "d=[] # Crear una lista vacía 'd' para almacenar información sobre cada token en el texto procesado\n",
        "for token in doc:\n",
        "    # Para cada token, extraer varias propiedades y almacenarlas en una lista\n",
        "    d.append([token.text,     # El texto original del token\n",
        "              token.lemma_,   # El lema (forma base) de la palabra\n",
        "              token.pos_,     # La etiqueta de parte del discurso (POS) de la palabra (p. ej., sustantivo, verbo, etc.)\n",
        "              token.dep_,     # La relación de dependencia sintáctica con la cabeza de la frase\n",
        "              token.shape_,   # La forma de la palabra (patrón de mayúsculas y puntuación)\n",
        "              token.is_alpha, # Booleano que indica si el token consiste en caracteres alfabéticos\n",
        "              token.is_stop]) # Booleano que indica si el token es una stop word.\n",
        "\n",
        "df = pd.DataFrame(data=d, columns=[\"Text\",\"Lemma\",\"POS\",\"DEP\",\"shape\",\"is_alpha\",\"is_stop\"])\n",
        "df"
      ],
      "metadata": {
        "colab": {
          "base_uri": "https://localhost:8080/",
          "height": 269
        },
        "id": "-lgK_bMgAEP0",
        "outputId": "29114fe1-bdfc-4c6b-bc2a-2f970a192608"
      },
      "execution_count": 4,
      "outputs": [
        {
          "output_type": "execute_result",
          "data": {
            "text/plain": [
              "          Text        Lemma    POS    DEP  shape  is_alpha  is_stop\n",
              "0          Ada          Ada  PROPN  nsubj    Xxx      True    False\n",
              "1     Lovelace     Lovelace  PROPN   flat  Xxxxx      True    False\n",
              "2         creó        crear   VERB   ROOT   xxxx      True    False\n",
              "3           el           el    DET    det     xx      True     True\n",
              "4       primer      primero    ADJ   amod   xxxx      True     True\n",
              "5    algoritmo    algoritmo   NOUN    obj   xxxx      True    False\n",
              "6  informático  informático    ADJ   amod   xxxx      True    False"
            ],
            "text/html": [
              "\n",
              "  <div id=\"df-e6dd4a92-bed9-4f57-95e1-2bae132a6f5b\" class=\"colab-df-container\">\n",
              "    <div>\n",
              "<style scoped>\n",
              "    .dataframe tbody tr th:only-of-type {\n",
              "        vertical-align: middle;\n",
              "    }\n",
              "\n",
              "    .dataframe tbody tr th {\n",
              "        vertical-align: top;\n",
              "    }\n",
              "\n",
              "    .dataframe thead th {\n",
              "        text-align: right;\n",
              "    }\n",
              "</style>\n",
              "<table border=\"1\" class=\"dataframe\">\n",
              "  <thead>\n",
              "    <tr style=\"text-align: right;\">\n",
              "      <th></th>\n",
              "      <th>Text</th>\n",
              "      <th>Lemma</th>\n",
              "      <th>POS</th>\n",
              "      <th>DEP</th>\n",
              "      <th>shape</th>\n",
              "      <th>is_alpha</th>\n",
              "      <th>is_stop</th>\n",
              "    </tr>\n",
              "  </thead>\n",
              "  <tbody>\n",
              "    <tr>\n",
              "      <th>0</th>\n",
              "      <td>Ada</td>\n",
              "      <td>Ada</td>\n",
              "      <td>PROPN</td>\n",
              "      <td>nsubj</td>\n",
              "      <td>Xxx</td>\n",
              "      <td>True</td>\n",
              "      <td>False</td>\n",
              "    </tr>\n",
              "    <tr>\n",
              "      <th>1</th>\n",
              "      <td>Lovelace</td>\n",
              "      <td>Lovelace</td>\n",
              "      <td>PROPN</td>\n",
              "      <td>flat</td>\n",
              "      <td>Xxxxx</td>\n",
              "      <td>True</td>\n",
              "      <td>False</td>\n",
              "    </tr>\n",
              "    <tr>\n",
              "      <th>2</th>\n",
              "      <td>creó</td>\n",
              "      <td>crear</td>\n",
              "      <td>VERB</td>\n",
              "      <td>ROOT</td>\n",
              "      <td>xxxx</td>\n",
              "      <td>True</td>\n",
              "      <td>False</td>\n",
              "    </tr>\n",
              "    <tr>\n",
              "      <th>3</th>\n",
              "      <td>el</td>\n",
              "      <td>el</td>\n",
              "      <td>DET</td>\n",
              "      <td>det</td>\n",
              "      <td>xx</td>\n",
              "      <td>True</td>\n",
              "      <td>True</td>\n",
              "    </tr>\n",
              "    <tr>\n",
              "      <th>4</th>\n",
              "      <td>primer</td>\n",
              "      <td>primero</td>\n",
              "      <td>ADJ</td>\n",
              "      <td>amod</td>\n",
              "      <td>xxxx</td>\n",
              "      <td>True</td>\n",
              "      <td>True</td>\n",
              "    </tr>\n",
              "    <tr>\n",
              "      <th>5</th>\n",
              "      <td>algoritmo</td>\n",
              "      <td>algoritmo</td>\n",
              "      <td>NOUN</td>\n",
              "      <td>obj</td>\n",
              "      <td>xxxx</td>\n",
              "      <td>True</td>\n",
              "      <td>False</td>\n",
              "    </tr>\n",
              "    <tr>\n",
              "      <th>6</th>\n",
              "      <td>informático</td>\n",
              "      <td>informático</td>\n",
              "      <td>ADJ</td>\n",
              "      <td>amod</td>\n",
              "      <td>xxxx</td>\n",
              "      <td>True</td>\n",
              "      <td>False</td>\n",
              "    </tr>\n",
              "  </tbody>\n",
              "</table>\n",
              "</div>\n",
              "    <div class=\"colab-df-buttons\">\n",
              "\n",
              "  <div class=\"colab-df-container\">\n",
              "    <button class=\"colab-df-convert\" onclick=\"convertToInteractive('df-e6dd4a92-bed9-4f57-95e1-2bae132a6f5b')\"\n",
              "            title=\"Convert this dataframe to an interactive table.\"\n",
              "            style=\"display:none;\">\n",
              "\n",
              "  <svg xmlns=\"http://www.w3.org/2000/svg\" height=\"24px\" viewBox=\"0 -960 960 960\">\n",
              "    <path d=\"M120-120v-720h720v720H120Zm60-500h600v-160H180v160Zm220 220h160v-160H400v160Zm0 220h160v-160H400v160ZM180-400h160v-160H180v160Zm440 0h160v-160H620v160ZM180-180h160v-160H180v160Zm440 0h160v-160H620v160Z\"/>\n",
              "  </svg>\n",
              "    </button>\n",
              "\n",
              "  <style>\n",
              "    .colab-df-container {\n",
              "      display:flex;\n",
              "      gap: 12px;\n",
              "    }\n",
              "\n",
              "    .colab-df-convert {\n",
              "      background-color: #E8F0FE;\n",
              "      border: none;\n",
              "      border-radius: 50%;\n",
              "      cursor: pointer;\n",
              "      display: none;\n",
              "      fill: #1967D2;\n",
              "      height: 32px;\n",
              "      padding: 0 0 0 0;\n",
              "      width: 32px;\n",
              "    }\n",
              "\n",
              "    .colab-df-convert:hover {\n",
              "      background-color: #E2EBFA;\n",
              "      box-shadow: 0px 1px 2px rgba(60, 64, 67, 0.3), 0px 1px 3px 1px rgba(60, 64, 67, 0.15);\n",
              "      fill: #174EA6;\n",
              "    }\n",
              "\n",
              "    .colab-df-buttons div {\n",
              "      margin-bottom: 4px;\n",
              "    }\n",
              "\n",
              "    [theme=dark] .colab-df-convert {\n",
              "      background-color: #3B4455;\n",
              "      fill: #D2E3FC;\n",
              "    }\n",
              "\n",
              "    [theme=dark] .colab-df-convert:hover {\n",
              "      background-color: #434B5C;\n",
              "      box-shadow: 0px 1px 3px 1px rgba(0, 0, 0, 0.15);\n",
              "      filter: drop-shadow(0px 1px 2px rgba(0, 0, 0, 0.3));\n",
              "      fill: #FFFFFF;\n",
              "    }\n",
              "  </style>\n",
              "\n",
              "    <script>\n",
              "      const buttonEl =\n",
              "        document.querySelector('#df-e6dd4a92-bed9-4f57-95e1-2bae132a6f5b button.colab-df-convert');\n",
              "      buttonEl.style.display =\n",
              "        google.colab.kernel.accessAllowed ? 'block' : 'none';\n",
              "\n",
              "      async function convertToInteractive(key) {\n",
              "        const element = document.querySelector('#df-e6dd4a92-bed9-4f57-95e1-2bae132a6f5b');\n",
              "        const dataTable =\n",
              "          await google.colab.kernel.invokeFunction('convertToInteractive',\n",
              "                                                    [key], {});\n",
              "        if (!dataTable) return;\n",
              "\n",
              "        const docLinkHtml = 'Like what you see? Visit the ' +\n",
              "          '<a target=\"_blank\" href=https://colab.research.google.com/notebooks/data_table.ipynb>data table notebook</a>'\n",
              "          + ' to learn more about interactive tables.';\n",
              "        element.innerHTML = '';\n",
              "        dataTable['output_type'] = 'display_data';\n",
              "        await google.colab.output.renderOutput(dataTable, element);\n",
              "        const docLink = document.createElement('div');\n",
              "        docLink.innerHTML = docLinkHtml;\n",
              "        element.appendChild(docLink);\n",
              "      }\n",
              "    </script>\n",
              "  </div>\n",
              "\n",
              "\n",
              "<div id=\"df-b7dd6cd0-713d-413d-804c-b061513e701a\">\n",
              "  <button class=\"colab-df-quickchart\" onclick=\"quickchart('df-b7dd6cd0-713d-413d-804c-b061513e701a')\"\n",
              "            title=\"Suggest charts.\"\n",
              "            style=\"display:none;\">\n",
              "\n",
              "<svg xmlns=\"http://www.w3.org/2000/svg\" height=\"24px\"viewBox=\"0 0 24 24\"\n",
              "     width=\"24px\">\n",
              "    <g>\n",
              "        <path d=\"M19 3H5c-1.1 0-2 .9-2 2v14c0 1.1.9 2 2 2h14c1.1 0 2-.9 2-2V5c0-1.1-.9-2-2-2zM9 17H7v-7h2v7zm4 0h-2V7h2v10zm4 0h-2v-4h2v4z\"/>\n",
              "    </g>\n",
              "</svg>\n",
              "  </button>\n",
              "\n",
              "<style>\n",
              "  .colab-df-quickchart {\n",
              "      --bg-color: #E8F0FE;\n",
              "      --fill-color: #1967D2;\n",
              "      --hover-bg-color: #E2EBFA;\n",
              "      --hover-fill-color: #174EA6;\n",
              "      --disabled-fill-color: #AAA;\n",
              "      --disabled-bg-color: #DDD;\n",
              "  }\n",
              "\n",
              "  [theme=dark] .colab-df-quickchart {\n",
              "      --bg-color: #3B4455;\n",
              "      --fill-color: #D2E3FC;\n",
              "      --hover-bg-color: #434B5C;\n",
              "      --hover-fill-color: #FFFFFF;\n",
              "      --disabled-bg-color: #3B4455;\n",
              "      --disabled-fill-color: #666;\n",
              "  }\n",
              "\n",
              "  .colab-df-quickchart {\n",
              "    background-color: var(--bg-color);\n",
              "    border: none;\n",
              "    border-radius: 50%;\n",
              "    cursor: pointer;\n",
              "    display: none;\n",
              "    fill: var(--fill-color);\n",
              "    height: 32px;\n",
              "    padding: 0;\n",
              "    width: 32px;\n",
              "  }\n",
              "\n",
              "  .colab-df-quickchart:hover {\n",
              "    background-color: var(--hover-bg-color);\n",
              "    box-shadow: 0 1px 2px rgba(60, 64, 67, 0.3), 0 1px 3px 1px rgba(60, 64, 67, 0.15);\n",
              "    fill: var(--button-hover-fill-color);\n",
              "  }\n",
              "\n",
              "  .colab-df-quickchart-complete:disabled,\n",
              "  .colab-df-quickchart-complete:disabled:hover {\n",
              "    background-color: var(--disabled-bg-color);\n",
              "    fill: var(--disabled-fill-color);\n",
              "    box-shadow: none;\n",
              "  }\n",
              "\n",
              "  .colab-df-spinner {\n",
              "    border: 2px solid var(--fill-color);\n",
              "    border-color: transparent;\n",
              "    border-bottom-color: var(--fill-color);\n",
              "    animation:\n",
              "      spin 1s steps(1) infinite;\n",
              "  }\n",
              "\n",
              "  @keyframes spin {\n",
              "    0% {\n",
              "      border-color: transparent;\n",
              "      border-bottom-color: var(--fill-color);\n",
              "      border-left-color: var(--fill-color);\n",
              "    }\n",
              "    20% {\n",
              "      border-color: transparent;\n",
              "      border-left-color: var(--fill-color);\n",
              "      border-top-color: var(--fill-color);\n",
              "    }\n",
              "    30% {\n",
              "      border-color: transparent;\n",
              "      border-left-color: var(--fill-color);\n",
              "      border-top-color: var(--fill-color);\n",
              "      border-right-color: var(--fill-color);\n",
              "    }\n",
              "    40% {\n",
              "      border-color: transparent;\n",
              "      border-right-color: var(--fill-color);\n",
              "      border-top-color: var(--fill-color);\n",
              "    }\n",
              "    60% {\n",
              "      border-color: transparent;\n",
              "      border-right-color: var(--fill-color);\n",
              "    }\n",
              "    80% {\n",
              "      border-color: transparent;\n",
              "      border-right-color: var(--fill-color);\n",
              "      border-bottom-color: var(--fill-color);\n",
              "    }\n",
              "    90% {\n",
              "      border-color: transparent;\n",
              "      border-bottom-color: var(--fill-color);\n",
              "    }\n",
              "  }\n",
              "</style>\n",
              "\n",
              "  <script>\n",
              "    async function quickchart(key) {\n",
              "      const quickchartButtonEl =\n",
              "        document.querySelector('#' + key + ' button');\n",
              "      quickchartButtonEl.disabled = true;  // To prevent multiple clicks.\n",
              "      quickchartButtonEl.classList.add('colab-df-spinner');\n",
              "      try {\n",
              "        const charts = await google.colab.kernel.invokeFunction(\n",
              "            'suggestCharts', [key], {});\n",
              "      } catch (error) {\n",
              "        console.error('Error during call to suggestCharts:', error);\n",
              "      }\n",
              "      quickchartButtonEl.classList.remove('colab-df-spinner');\n",
              "      quickchartButtonEl.classList.add('colab-df-quickchart-complete');\n",
              "    }\n",
              "    (() => {\n",
              "      let quickchartButtonEl =\n",
              "        document.querySelector('#df-b7dd6cd0-713d-413d-804c-b061513e701a button');\n",
              "      quickchartButtonEl.style.display =\n",
              "        google.colab.kernel.accessAllowed ? 'block' : 'none';\n",
              "    })();\n",
              "  </script>\n",
              "</div>\n",
              "    </div>\n",
              "  </div>\n"
            ]
          },
          "metadata": {},
          "execution_count": 4
        }
      ]
    },
    {
      "cell_type": "markdown",
      "source": [
        "### Dependencias"
      ],
      "metadata": {
        "id": "k6glsm4k_6yw"
      }
    },
    {
      "cell_type": "markdown",
      "source": [
        "ROOT (Raíz): Este valor indica que el token es la raíz de la estructura sintáctica de la oración, es decir, no depende de ninguna otra palabra en la oración. Generalmente, un verbo principal en una oración será la raíz.\n",
        "\n",
        "nsubj (Sujeto Nominal): Se utiliza para etiquetar el sujeto nominal de una oración, que es la palabra o grupo de palabras que realiza la acción del verbo.\n",
        "\n",
        "nsubjpass (Sujeto Pasivo Nominal): Indica el sujeto de una oración pasiva. En una construcción pasiva, el sujeto realiza la acción de manera pasiva y es el receptor de la acción.\n",
        "\n",
        "dobj (Objeto Directo): Etiqueta el objeto directo de un verbo, que es el receptor de la acción del verbo sin una preposición.\n",
        "\n",
        "pobj (Objeto de Preposición): Indica un sustantivo o pronombre que es el objeto de una preposición en la oración.\n",
        "\n",
        "amod (Modificador de Adjetivo): Se utiliza para etiquetar un modificador que describe o califica un sustantivo.\n",
        "\n",
        "conj (Conjunción): Etiqueta elementos de una lista o serie que están conectados por una conjunción.\n",
        "\n",
        "advmod (Modificador de Adverbio): Indica un modificador que describe o califica un adverbio.\n",
        "\n",
        "prep (Preposición): Indica una relación de dependencia entre un sustantivo y una preposición.\n",
        "\n",
        "cc (Conector Coordinante): Etiqueta una conjunción coordinante que conecta palabras o frases de igual importancia."
      ],
      "metadata": {
        "id": "j_AM6-ApmsVY"
      }
    },
    {
      "cell_type": "code",
      "source": [
        "doc = nlp(\"Ada Lovelace creó el primer algoritmo informático\")\n",
        "displacy.render(doc, style=\"dep\", jupyter=True)"
      ],
      "metadata": {
        "colab": {
          "base_uri": "https://localhost:8080/",
          "height": 441
        },
        "id": "R3Uhjk9D_HRO",
        "outputId": "1ef50356-40f4-4faa-d2b1-51a905fa8464"
      },
      "execution_count": null,
      "outputs": [
        {
          "output_type": "display_data",
          "data": {
            "text/plain": [
              "<IPython.core.display.HTML object>"
            ],
            "text/html": [
              "<span class=\"tex2jax_ignore\"><svg xmlns=\"http://www.w3.org/2000/svg\" xmlns:xlink=\"http://www.w3.org/1999/xlink\" xml:lang=\"es\" id=\"d6dc84a6013845eea292f42f27ee329c-0\" class=\"displacy\" width=\"1275\" height=\"399.5\" direction=\"ltr\" style=\"max-width: none; height: 399.5px; color: #000000; background: #ffffff; font-family: Arial; direction: ltr\">\n",
              "<text class=\"displacy-token\" fill=\"currentColor\" text-anchor=\"middle\" y=\"309.5\">\n",
              "    <tspan class=\"displacy-word\" fill=\"currentColor\" x=\"50\">Ada</tspan>\n",
              "    <tspan class=\"displacy-tag\" dy=\"2em\" fill=\"currentColor\" x=\"50\">PROPN</tspan>\n",
              "</text>\n",
              "\n",
              "<text class=\"displacy-token\" fill=\"currentColor\" text-anchor=\"middle\" y=\"309.5\">\n",
              "    <tspan class=\"displacy-word\" fill=\"currentColor\" x=\"225\">Lovelace</tspan>\n",
              "    <tspan class=\"displacy-tag\" dy=\"2em\" fill=\"currentColor\" x=\"225\">PROPN</tspan>\n",
              "</text>\n",
              "\n",
              "<text class=\"displacy-token\" fill=\"currentColor\" text-anchor=\"middle\" y=\"309.5\">\n",
              "    <tspan class=\"displacy-word\" fill=\"currentColor\" x=\"400\">creó</tspan>\n",
              "    <tspan class=\"displacy-tag\" dy=\"2em\" fill=\"currentColor\" x=\"400\">VERB</tspan>\n",
              "</text>\n",
              "\n",
              "<text class=\"displacy-token\" fill=\"currentColor\" text-anchor=\"middle\" y=\"309.5\">\n",
              "    <tspan class=\"displacy-word\" fill=\"currentColor\" x=\"575\">el</tspan>\n",
              "    <tspan class=\"displacy-tag\" dy=\"2em\" fill=\"currentColor\" x=\"575\">DET</tspan>\n",
              "</text>\n",
              "\n",
              "<text class=\"displacy-token\" fill=\"currentColor\" text-anchor=\"middle\" y=\"309.5\">\n",
              "    <tspan class=\"displacy-word\" fill=\"currentColor\" x=\"750\">primer</tspan>\n",
              "    <tspan class=\"displacy-tag\" dy=\"2em\" fill=\"currentColor\" x=\"750\">ADJ</tspan>\n",
              "</text>\n",
              "\n",
              "<text class=\"displacy-token\" fill=\"currentColor\" text-anchor=\"middle\" y=\"309.5\">\n",
              "    <tspan class=\"displacy-word\" fill=\"currentColor\" x=\"925\">algoritmo</tspan>\n",
              "    <tspan class=\"displacy-tag\" dy=\"2em\" fill=\"currentColor\" x=\"925\">NOUN</tspan>\n",
              "</text>\n",
              "\n",
              "<text class=\"displacy-token\" fill=\"currentColor\" text-anchor=\"middle\" y=\"309.5\">\n",
              "    <tspan class=\"displacy-word\" fill=\"currentColor\" x=\"1100\">informático</tspan>\n",
              "    <tspan class=\"displacy-tag\" dy=\"2em\" fill=\"currentColor\" x=\"1100\">ADJ</tspan>\n",
              "</text>\n",
              "\n",
              "<g class=\"displacy-arrow\">\n",
              "    <path class=\"displacy-arc\" id=\"arrow-d6dc84a6013845eea292f42f27ee329c-0-0\" stroke-width=\"2px\" d=\"M70,264.5 C70,89.5 395.0,89.5 395.0,264.5\" fill=\"none\" stroke=\"currentColor\"/>\n",
              "    <text dy=\"1.25em\" style=\"font-size: 0.8em; letter-spacing: 1px\">\n",
              "        <textPath xlink:href=\"#arrow-d6dc84a6013845eea292f42f27ee329c-0-0\" class=\"displacy-label\" startOffset=\"50%\" side=\"left\" fill=\"currentColor\" text-anchor=\"middle\">nsubj</textPath>\n",
              "    </text>\n",
              "    <path class=\"displacy-arrowhead\" d=\"M70,266.5 L62,254.5 78,254.5\" fill=\"currentColor\"/>\n",
              "</g>\n",
              "\n",
              "<g class=\"displacy-arrow\">\n",
              "    <path class=\"displacy-arc\" id=\"arrow-d6dc84a6013845eea292f42f27ee329c-0-1\" stroke-width=\"2px\" d=\"M70,264.5 C70,177.0 215.0,177.0 215.0,264.5\" fill=\"none\" stroke=\"currentColor\"/>\n",
              "    <text dy=\"1.25em\" style=\"font-size: 0.8em; letter-spacing: 1px\">\n",
              "        <textPath xlink:href=\"#arrow-d6dc84a6013845eea292f42f27ee329c-0-1\" class=\"displacy-label\" startOffset=\"50%\" side=\"left\" fill=\"currentColor\" text-anchor=\"middle\">flat</textPath>\n",
              "    </text>\n",
              "    <path class=\"displacy-arrowhead\" d=\"M215.0,266.5 L223.0,254.5 207.0,254.5\" fill=\"currentColor\"/>\n",
              "</g>\n",
              "\n",
              "<g class=\"displacy-arrow\">\n",
              "    <path class=\"displacy-arc\" id=\"arrow-d6dc84a6013845eea292f42f27ee329c-0-2\" stroke-width=\"2px\" d=\"M595,264.5 C595,89.5 920.0,89.5 920.0,264.5\" fill=\"none\" stroke=\"currentColor\"/>\n",
              "    <text dy=\"1.25em\" style=\"font-size: 0.8em; letter-spacing: 1px\">\n",
              "        <textPath xlink:href=\"#arrow-d6dc84a6013845eea292f42f27ee329c-0-2\" class=\"displacy-label\" startOffset=\"50%\" side=\"left\" fill=\"currentColor\" text-anchor=\"middle\">det</textPath>\n",
              "    </text>\n",
              "    <path class=\"displacy-arrowhead\" d=\"M595,266.5 L587,254.5 603,254.5\" fill=\"currentColor\"/>\n",
              "</g>\n",
              "\n",
              "<g class=\"displacy-arrow\">\n",
              "    <path class=\"displacy-arc\" id=\"arrow-d6dc84a6013845eea292f42f27ee329c-0-3\" stroke-width=\"2px\" d=\"M770,264.5 C770,177.0 915.0,177.0 915.0,264.5\" fill=\"none\" stroke=\"currentColor\"/>\n",
              "    <text dy=\"1.25em\" style=\"font-size: 0.8em; letter-spacing: 1px\">\n",
              "        <textPath xlink:href=\"#arrow-d6dc84a6013845eea292f42f27ee329c-0-3\" class=\"displacy-label\" startOffset=\"50%\" side=\"left\" fill=\"currentColor\" text-anchor=\"middle\">amod</textPath>\n",
              "    </text>\n",
              "    <path class=\"displacy-arrowhead\" d=\"M770,266.5 L762,254.5 778,254.5\" fill=\"currentColor\"/>\n",
              "</g>\n",
              "\n",
              "<g class=\"displacy-arrow\">\n",
              "    <path class=\"displacy-arc\" id=\"arrow-d6dc84a6013845eea292f42f27ee329c-0-4\" stroke-width=\"2px\" d=\"M420,264.5 C420,2.0 925.0,2.0 925.0,264.5\" fill=\"none\" stroke=\"currentColor\"/>\n",
              "    <text dy=\"1.25em\" style=\"font-size: 0.8em; letter-spacing: 1px\">\n",
              "        <textPath xlink:href=\"#arrow-d6dc84a6013845eea292f42f27ee329c-0-4\" class=\"displacy-label\" startOffset=\"50%\" side=\"left\" fill=\"currentColor\" text-anchor=\"middle\">obj</textPath>\n",
              "    </text>\n",
              "    <path class=\"displacy-arrowhead\" d=\"M925.0,266.5 L933.0,254.5 917.0,254.5\" fill=\"currentColor\"/>\n",
              "</g>\n",
              "\n",
              "<g class=\"displacy-arrow\">\n",
              "    <path class=\"displacy-arc\" id=\"arrow-d6dc84a6013845eea292f42f27ee329c-0-5\" stroke-width=\"2px\" d=\"M945,264.5 C945,177.0 1090.0,177.0 1090.0,264.5\" fill=\"none\" stroke=\"currentColor\"/>\n",
              "    <text dy=\"1.25em\" style=\"font-size: 0.8em; letter-spacing: 1px\">\n",
              "        <textPath xlink:href=\"#arrow-d6dc84a6013845eea292f42f27ee329c-0-5\" class=\"displacy-label\" startOffset=\"50%\" side=\"left\" fill=\"currentColor\" text-anchor=\"middle\">amod</textPath>\n",
              "    </text>\n",
              "    <path class=\"displacy-arrowhead\" d=\"M1090.0,266.5 L1098.0,254.5 1082.0,254.5\" fill=\"currentColor\"/>\n",
              "</g>\n",
              "</svg></span>"
            ]
          },
          "metadata": {}
        }
      ]
    },
    {
      "cell_type": "markdown",
      "source": [
        "### Morfologia"
      ],
      "metadata": {
        "id": "AV_m27LvCSoG"
      }
    },
    {
      "cell_type": "code",
      "source": [
        "# Cargar el modelo de SpaCy para el español\n",
        "nlp = spacy.load(\"es_core_news_sm\")\n",
        "\n",
        "# Imprimir los componentes del pipeline de procesamiento de SpaCy\n",
        "print(\"Pipeline:\", nlp.pipe_names)\n",
        "\n",
        "# Procesar un texto de ejemplo utilizando el modelo de SpaCy\n",
        "doc = nlp(\"Yo estaba leyendo el diario\")\n",
        "\n",
        "# Acceder al primer token (en este caso, \"Yo\") en el documento procesado\n",
        "token = doc[0]\n",
        "\n",
        "# Imprimir las características morfológicas (morph) del token\n",
        "print(token.morph)  # 'Case=Nom|Number=Sing|Person=1|PronType=Prs'\n",
        "\n",
        "# Imprimir la parte del discurso (POS) del token\n",
        "print(token.pos_)"
      ],
      "metadata": {
        "colab": {
          "base_uri": "https://localhost:8080/"
        },
        "id": "ulSr9DE_CR3v",
        "outputId": "a6347a43-d019-4fd6-d2db-9888ccc233b2"
      },
      "execution_count": null,
      "outputs": [
        {
          "output_type": "stream",
          "name": "stdout",
          "text": [
            "Pipeline: ['tok2vec', 'morphologizer', 'parser', 'attribute_ruler', 'lemmatizer', 'ner']\n",
            "Case=Nom|Number=Sing|Person=1|PronType=Prs\n",
            "PRON\n"
          ]
        }
      ]
    },
    {
      "cell_type": "markdown",
      "source": [
        "**Case=Nom:** El caso gramatical del token es nominativo (\"Nom\"). En español, el caso nominativo se utiliza para sujetos y complementos directos de un verbo.\n",
        "\n",
        "**Number=Sing:** Es de numero singular (\"Sing\").\n",
        "\n",
        "**Person=1:** Esta en primera persona.\n",
        "\n",
        "**PronType=Prs:** Tipo de pronombre al que pertenece el token \"Prs\" significa que el token es un pronombre personal."
      ],
      "metadata": {
        "id": "i54T0vPFoYQj"
      }
    },
    {
      "cell_type": "markdown",
      "source": [
        "### Entidades"
      ],
      "metadata": {
        "id": "Gx5Uoa9wycXa"
      }
    },
    {
      "cell_type": "code",
      "source": [
        "text = \"\"\"\n",
        "Margaret Hamilton nació en Paoli, Indiana el dia 17 de agosto de 1936. Margaret es una científica computacional, matemática e\n",
        "ingeniera de Software estadounidense.\n",
        "Fue directora de la División de Ingeniería de Software del Laboratorio de Instrumentación del MIT,\n",
        "donde con su equipo desarrolló el software de navegación \"on-board\" para el Programa Espacial Apolo.\n",
        "Fue fundadora, en 1976, de la empresa Higher Order Software.\n",
        "En 1986, se convirtió en la fundadora y CEO de Hamilton Technologies, en Cambridge, Massachusetts.\n",
        "\"\"\"\n",
        "\n",
        "doc = nlp(text)\n",
        "# docs = [nlp(text) for text in texts] si tengo una lista de textos\n",
        "\n",
        "displacy.render(doc, style=\"ent\", jupyter=True)"
      ],
      "metadata": {
        "id": "SjovvpOaxI_a",
        "colab": {
          "base_uri": "https://localhost:8080/",
          "height": 262
        },
        "outputId": "140a8261-b1ab-41aa-bf1a-16dfea2b8c6f"
      },
      "execution_count": 5,
      "outputs": [
        {
          "output_type": "display_data",
          "data": {
            "text/plain": [
              "<IPython.core.display.HTML object>"
            ],
            "text/html": [
              "<span class=\"tex2jax_ignore\"><div class=\"entities\" style=\"line-height: 2.5; direction: ltr\"><br>\n",
              "<mark class=\"entity\" style=\"background: #ddd; padding: 0.45em 0.6em; margin: 0 0.25em; line-height: 1; border-radius: 0.35em;\">\n",
              "    Margaret Hamilton\n",
              "    <span style=\"font-size: 0.8em; font-weight: bold; line-height: 1; border-radius: 0.35em; vertical-align: middle; margin-left: 0.5rem\">PER</span>\n",
              "</mark>\n",
              " nació en \n",
              "<mark class=\"entity\" style=\"background: #ff9561; padding: 0.45em 0.6em; margin: 0 0.25em; line-height: 1; border-radius: 0.35em;\">\n",
              "    Paoli\n",
              "    <span style=\"font-size: 0.8em; font-weight: bold; line-height: 1; border-radius: 0.35em; vertical-align: middle; margin-left: 0.5rem\">LOC</span>\n",
              "</mark>\n",
              ", \n",
              "<mark class=\"entity\" style=\"background: #ff9561; padding: 0.45em 0.6em; margin: 0 0.25em; line-height: 1; border-radius: 0.35em;\">\n",
              "    Indiana\n",
              "    <span style=\"font-size: 0.8em; font-weight: bold; line-height: 1; border-radius: 0.35em; vertical-align: middle; margin-left: 0.5rem\">LOC</span>\n",
              "</mark>\n",
              " el dia 17 de agosto de 1936. \n",
              "<mark class=\"entity\" style=\"background: #ff9561; padding: 0.45em 0.6em; margin: 0 0.25em; line-height: 1; border-radius: 0.35em;\">\n",
              "    Margaret\n",
              "    <span style=\"font-size: 0.8em; font-weight: bold; line-height: 1; border-radius: 0.35em; vertical-align: middle; margin-left: 0.5rem\">LOC</span>\n",
              "</mark>\n",
              " es una científica computacional, matemática e<br>ingeniera de \n",
              "<mark class=\"entity\" style=\"background: #7aecec; padding: 0.45em 0.6em; margin: 0 0.25em; line-height: 1; border-radius: 0.35em;\">\n",
              "    Software estadounidense\n",
              "    <span style=\"font-size: 0.8em; font-weight: bold; line-height: 1; border-radius: 0.35em; vertical-align: middle; margin-left: 0.5rem\">ORG</span>\n",
              "</mark>\n",
              ".<br>Fue directora de la \n",
              "<mark class=\"entity\" style=\"background: #7aecec; padding: 0.45em 0.6em; margin: 0 0.25em; line-height: 1; border-radius: 0.35em;\">\n",
              "    División de Ingeniería de Software\n",
              "    <span style=\"font-size: 0.8em; font-weight: bold; line-height: 1; border-radius: 0.35em; vertical-align: middle; margin-left: 0.5rem\">ORG</span>\n",
              "</mark>\n",
              " del \n",
              "<mark class=\"entity\" style=\"background: #7aecec; padding: 0.45em 0.6em; margin: 0 0.25em; line-height: 1; border-radius: 0.35em;\">\n",
              "    Laboratorio de Instrumentación\n",
              "    <span style=\"font-size: 0.8em; font-weight: bold; line-height: 1; border-radius: 0.35em; vertical-align: middle; margin-left: 0.5rem\">ORG</span>\n",
              "</mark>\n",
              " del \n",
              "<mark class=\"entity\" style=\"background: #7aecec; padding: 0.45em 0.6em; margin: 0 0.25em; line-height: 1; border-radius: 0.35em;\">\n",
              "    MIT\n",
              "    <span style=\"font-size: 0.8em; font-weight: bold; line-height: 1; border-radius: 0.35em; vertical-align: middle; margin-left: 0.5rem\">ORG</span>\n",
              "</mark>\n",
              ",<br>donde con su equipo desarrolló el software de navegación &quot;on-board&quot; para el \n",
              "<mark class=\"entity\" style=\"background: #ddd; padding: 0.45em 0.6em; margin: 0 0.25em; line-height: 1; border-radius: 0.35em;\">\n",
              "    Programa Espacial Apolo\n",
              "    <span style=\"font-size: 0.8em; font-weight: bold; line-height: 1; border-radius: 0.35em; vertical-align: middle; margin-left: 0.5rem\">MISC</span>\n",
              "</mark>\n",
              ".<br>Fue fundadora, en 1976, de la empresa \n",
              "<mark class=\"entity\" style=\"background: #7aecec; padding: 0.45em 0.6em; margin: 0 0.25em; line-height: 1; border-radius: 0.35em;\">\n",
              "    Higher Order Software\n",
              "    <span style=\"font-size: 0.8em; font-weight: bold; line-height: 1; border-radius: 0.35em; vertical-align: middle; margin-left: 0.5rem\">ORG</span>\n",
              "</mark>\n",
              ".<br>En 1986, se convirtió en la fundadora y CEO de \n",
              "<mark class=\"entity\" style=\"background: #ddd; padding: 0.45em 0.6em; margin: 0 0.25em; line-height: 1; border-radius: 0.35em;\">\n",
              "    Hamilton Technologies\n",
              "    <span style=\"font-size: 0.8em; font-weight: bold; line-height: 1; border-radius: 0.35em; vertical-align: middle; margin-left: 0.5rem\">PER</span>\n",
              "</mark>\n",
              ", en \n",
              "<mark class=\"entity\" style=\"background: #ff9561; padding: 0.45em 0.6em; margin: 0 0.25em; line-height: 1; border-radius: 0.35em;\">\n",
              "    Cambridge\n",
              "    <span style=\"font-size: 0.8em; font-weight: bold; line-height: 1; border-radius: 0.35em; vertical-align: middle; margin-left: 0.5rem\">LOC</span>\n",
              "</mark>\n",
              ", \n",
              "<mark class=\"entity\" style=\"background: #ff9561; padding: 0.45em 0.6em; margin: 0 0.25em; line-height: 1; border-radius: 0.35em;\">\n",
              "    Massachusetts\n",
              "    <span style=\"font-size: 0.8em; font-weight: bold; line-height: 1; border-radius: 0.35em; vertical-align: middle; margin-left: 0.5rem\">LOC</span>\n",
              "</mark>\n",
              ".<br></div></span>"
            ]
          },
          "metadata": {}
        }
      ]
    },
    {
      "cell_type": "markdown",
      "source": [
        "### Matching"
      ],
      "metadata": {
        "id": "ZqR5JmenAGLb"
      }
    },
    {
      "cell_type": "markdown",
      "source": [
        "Lemmatizacion y Matching\n",
        "Matcher permite definir patrones de búsqueda, encontrando todas las instancias de palabras, sin importar su conjugación, utilizando su forma en infinitivo."
      ],
      "metadata": {
        "id": "pA6y7wFtxv35"
      }
    },
    {
      "cell_type": "code",
      "source": [
        "from spacy.matcher import Matcher\n",
        "from spacy.tokens import Span\n",
        "\n",
        "text = \"\"\"\n",
        "Margaret Hamilton nació en Paoli, Indiana el dia 17 de agosto de 1936. Margaret es una científica computacional, matemática e\n",
        "ingeniera de Software estadounidense.\n",
        "Fue directora de la División de Ingeniería de Software del Laboratorio de Instrumentación del MIT,\n",
        "donde con su equipo desarrolló el software de navegación \"on-board\" para el Programa Espacial Apolo.\n",
        "Fue fundadora, en 1976, de la empresa Higher Order Software.\n",
        "En 1986, se convirtió en la fundadora y CEO de Hamilton Technologies, en Cambridge, Massachusetts.\n",
        "\"\"\"\n",
        "\n",
        "doc = nlp(text)\n",
        "\n",
        "matcher = Matcher(nlp.vocab)\n",
        "\n",
        "#defino los patrones de busqueda\n",
        "pattern_1 = [{\n",
        "  \"LOWER\": \"software\"\n",
        "}]\n",
        "\n",
        "pattern_2 = [{\n",
        "  \"LEMMA\": \"convertir\",\n",
        "}]\n",
        "\n",
        "# Agrego el patron de busqueda que quiero aplicar\n",
        "matcher.add(\"Software\", [pattern_1])\n",
        "matcher.add(\"Accion\", [pattern_2])\n",
        "\n",
        "doc = nlp(text)\n",
        "matches = matcher(doc)\n",
        "\n",
        "doc.ents = [] #saco las entidades existentes para solo ver los resultados del matcher\n",
        "\n",
        "for match_id, start, end in matches:\n",
        "    span = Span(doc, start, end, label=match_id)\n",
        "    doc.ents = list(doc.ents) + [span]\n",
        "\n",
        "colors = {\n",
        "    \"Software\": \"#6ab9eb\", #celeste\n",
        "    \"Accion\": \"#5d945f\" #verde\n",
        "}\n",
        "\n",
        "options = {\"colors\": colors}\n",
        "\n",
        "displacy.render(doc, style=\"ent\", options=options, jupyter=True)\n"
      ],
      "metadata": {
        "id": "UA6Y902mx-KB",
        "colab": {
          "base_uri": "https://localhost:8080/",
          "height": 262
        },
        "outputId": "e9e74d17-c970-454c-83a1-423abb53d49c"
      },
      "execution_count": null,
      "outputs": [
        {
          "output_type": "display_data",
          "data": {
            "text/plain": [
              "<IPython.core.display.HTML object>"
            ],
            "text/html": [
              "<span class=\"tex2jax_ignore\"><div class=\"entities\" style=\"line-height: 2.5; direction: ltr\"><br>Margaret Hamilton nació en Paoli, Indiana el dia 17 de agosto de 1936. Margaret es una científica computacional, matemática e <br>ingeniera de \n",
              "<mark class=\"entity\" style=\"background: #6ab9eb; padding: 0.45em 0.6em; margin: 0 0.25em; line-height: 1; border-radius: 0.35em;\">\n",
              "    Software\n",
              "    <span style=\"font-size: 0.8em; font-weight: bold; line-height: 1; border-radius: 0.35em; vertical-align: middle; margin-left: 0.5rem\">Software</span>\n",
              "</mark>\n",
              " estadounidense.<br>Fue directora de la División de Ingeniería de \n",
              "<mark class=\"entity\" style=\"background: #6ab9eb; padding: 0.45em 0.6em; margin: 0 0.25em; line-height: 1; border-radius: 0.35em;\">\n",
              "    Software\n",
              "    <span style=\"font-size: 0.8em; font-weight: bold; line-height: 1; border-radius: 0.35em; vertical-align: middle; margin-left: 0.5rem\">Software</span>\n",
              "</mark>\n",
              " del Laboratorio de Instrumentación del MIT,<br>donde con su equipo desarrolló el \n",
              "<mark class=\"entity\" style=\"background: #6ab9eb; padding: 0.45em 0.6em; margin: 0 0.25em; line-height: 1; border-radius: 0.35em;\">\n",
              "    software\n",
              "    <span style=\"font-size: 0.8em; font-weight: bold; line-height: 1; border-radius: 0.35em; vertical-align: middle; margin-left: 0.5rem\">Software</span>\n",
              "</mark>\n",
              " de navegación &quot;on-board&quot; para el Programa Espacial Apolo.<br>Fue fundadora, en 1976, de la empresa Higher Order \n",
              "<mark class=\"entity\" style=\"background: #6ab9eb; padding: 0.45em 0.6em; margin: 0 0.25em; line-height: 1; border-radius: 0.35em;\">\n",
              "    Software\n",
              "    <span style=\"font-size: 0.8em; font-weight: bold; line-height: 1; border-radius: 0.35em; vertical-align: middle; margin-left: 0.5rem\">Software</span>\n",
              "</mark>\n",
              ".<br>En 1986, se \n",
              "<mark class=\"entity\" style=\"background: #5d945f; padding: 0.45em 0.6em; margin: 0 0.25em; line-height: 1; border-radius: 0.35em;\">\n",
              "    convirtió\n",
              "    <span style=\"font-size: 0.8em; font-weight: bold; line-height: 1; border-radius: 0.35em; vertical-align: middle; margin-left: 0.5rem\">Accion</span>\n",
              "</mark>\n",
              " en la fundadora y CEO de Hamilton Technologies, en Cambridge, Massachusetts.<br></div></span>"
            ]
          },
          "metadata": {}
        }
      ]
    },
    {
      "cell_type": "markdown",
      "source": [
        "### Resumenes\n"
      ],
      "metadata": {
        "id": "ohqRb1vbzFce"
      }
    },
    {
      "cell_type": "code",
      "source": [
        "import spacy\n",
        "from spacy.lang.es.stop_words import STOP_WORDS  # Lista de stop words en español\n",
        "from string import punctuation  # Lista de signos de puntuación\n",
        "from collections import Counter  # Para contar palabras\n",
        "from heapq import nlargest  # Para seleccionar las oraciones más importantes\n",
        "\n",
        "# Cargar el modelo de SpaCy para el español\n",
        "nlp = spacy.load('es_core_news_sm')\n",
        "\n",
        "# Definir un artículo de noticia y un título\n",
        "noticia = \"\"\"\n",
        "En el inicio del fin de semana extralargo, miles de visitantes llegaron a la ciudad para disfrutar de unas minivacaciones antes del verano. Algunos arribaron a bordo de sus autos, otros eligieron el transporte público, y también algunos ejemplares llegaron por mar, como las ballenas que ayer a la mañana deleitaron a todos los que se encontraban frente al mar y pudieron divisarlas.\n",
        "\n",
        "Con un cielo despejado, y una máxima que alcanzó los 20°, los cétaceos se mostraron frente a las costas marplatenses, específicamente en la zona céntrica comprendida entre Cabo Corrientes y la Bristol.\n",
        "\n",
        "Si bien en los últimos meses se pudieron visualizar, a lo largo de toda la costa, los puntos terrestres donde son más identificables oscilan entre Cabos Corrientes y la bahía de Varese. Claro que, de acuerdo al comportamiento de los cetáceos, los marplatenses también las pudieron ver de cerca en el sector norte de la ciudad e incluso en el otro extremo, como Punta Canteras y Punta Mogotes.\n",
        "\n",
        "Los navegantes son los más afortunados, ya que muchas veces se las cruzaron en sus travesías, incluso varios kilómetros mar adentro, tal como quedó demostrado en varias oportunidades a través de las publicaciones en diferentes redes sociales o del trabajo del dron.\n",
        "\n",
        "Históricamente, los meses que las ballenas solían pasar frente a las costas locales eran agosto y septiembre, aunque en los últimos años ese período se fue extendiendo. Su paso por Mar del Plata se debe, según los especialistas, a la travesía de emprenden desde el sur de Brasil para llegar hasta Puerto Madryn. En la mayoría de los casos, se trata de ballenas “franca austral”, un animal protegido y declarado monumento natural de la Argentina.\n",
        "\"\"\"\n",
        "\n",
        "titulo = \"las ballenas brindaron un show a metros de la costa\"\n",
        "\n",
        "# Procesar el artículo\n",
        "doc = nlp(noticia)\n",
        "\n",
        "# Calcular el número de oraciones para el resumen\n",
        "oraciones = len(list(doc.sents))\n",
        "num_oraciones = int(oraciones * 0.3)  # Seleccionar el 30% de las oraciones\n",
        "\n",
        "keyword = []\n",
        "stopwords = list(STOP_WORDS)\n",
        "pos_tag = ['PROPN', 'ADJ', 'NOUN', 'VERB']  # Etiquetas de partes del discurso relevantes\n",
        "\n",
        "# Recorrer cada token en el artículo de noticia\n",
        "for token in doc:\n",
        "    # Comprobar si el token es relevante (no es stop word ni un signo de puntuación) y tiene una etiqueta de parte del discurso relevante\n",
        "    relevante = token.text not in stopwords and token.text not in punctuation\n",
        "    if relevante and token.pos_ in pos_tag:\n",
        "        keyword.append(token.text) #lo agrego a las palabras clave\n",
        "\n",
        "# Calcular la frecuencia de palabras clave\n",
        "p_frec = Counter(keyword)\n",
        "max_frec = Counter(keyword).most_common(1)[0][1]\n",
        "for word in p_frec.keys():\n",
        "    p_frec[word] = (p_frec[word] / max_frec)\n",
        "\n",
        "# Calcular la importancia de cada oración en función de la cantidad de palabras clave que tiene\n",
        "\n",
        "imp_oracion = {}\n",
        "for sent in doc.sents:\n",
        "    for word in sent:\n",
        "        if word.text in p_frec.keys():\n",
        "            if sent in imp_oracion.keys():\n",
        "                imp_oracion[sent] += p_frec[word.text]\n",
        "            else:\n",
        "                imp_oracion[sent] = p_frec[word.text]\n",
        "\n",
        "# Seleccionar las oraciones más relevantes para el resumen\n",
        "o_resumidas = nlargest(num_oraciones, imp_oracion, key=imp_oracion.get)\n",
        "\n",
        "# Crear una lista de las oraciones más relevantes en el resumen\n",
        "final = [w.text for w in o_resumidas]\n",
        "\n",
        "# Mostrar el título del artículo (en negrita) y el resumen del artículo\n",
        "print(f\"\\033[1m{titulo}\\033[0m\\n\")\n",
        "print(' '.join(final))"
      ],
      "metadata": {
        "colab": {
          "base_uri": "https://localhost:8080/"
        },
        "id": "D5Ox1Vq48K_U",
        "outputId": "a2d9b31c-9cf2-4598-faed-74ba4c9bc7a7"
      },
      "execution_count": null,
      "outputs": [
        {
          "output_type": "stream",
          "name": "stdout",
          "text": [
            "\u001b[1mlas ballenas brindaron un show a metros de la costa\u001b[0m\n",
            "\n",
            "Algunos arribaron a bordo de sus autos, otros eligieron el transporte público, y también algunos ejemplares llegaron por mar, como las ballenas que ayer a la mañana deleitaron a todos los que se encontraban frente al mar y pudieron divisarlas.\n",
            "\n",
            " Con un cielo despejado, y una máxima que alcanzó los 20°, los cétaceos se mostraron frente a las costas marplatenses, específicamente en la zona céntrica comprendida entre Cabo Corrientes y la Bristol.\n",
            "\n",
            " Históricamente, los meses que las ballenas solían pasar frente a las costas locales eran agosto y septiembre, aunque en los últimos años ese período se fue extendiendo.\n"
          ]
        }
      ]
    }
  ]
}